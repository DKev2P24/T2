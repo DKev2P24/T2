{
 "cells": [
  {
   "cell_type": "markdown",
   "metadata": {},
   "source": [
    "# Ejercicios Pares del Taller 2\n",
    "***"
   ]
  },
  {
   "cell_type": "markdown",
   "metadata": {},
   "source": [
    "2. Separar digitos decimales y digitos enteros"
   ]
  },
  {
   "cell_type": "code",
   "execution_count": null,
   "metadata": {},
   "outputs": [],
   "source": [
    "def num(x): # Funcion de Entero a Lista de Digitos\n",
    "    k = []  # Lista Vacia a agregar Digitos Enteros\n",
    "    l = []  # Lista Vacia a agregar Digitos Decimales\n",
    "\n",
    "    # Se declaran e inicializan variables\n",
    "    cantidadDecimales = int(input(\"¿Cuantos decimales tiene el numero?\"))\n",
    "    digitosEnteros = int(x)\n",
    "    digitosDecimales = x - digitosEnteros\n",
    "    digitosDecimales = int(digitosDecimales*10**cantidadDecimales)\n",
    "\n",
    "    # Separacion en 2 listas para los digitos enteros y los decimales\n",
    "\n",
    "    while digitosEnteros > 0:  # para evitar problemas se toman valores positivos\n",
    "        dg = digitosEnteros % 10  # se toma el ultimo digito, que es el residuo del cociente\n",
    "        k.insert(0, dg) # se agrega a la lista\n",
    "        digitosEnteros = digitosEnteros // 10 # se hace la division entera para borrar el ultimo decimal\n",
    "\n",
    "    while digitosDecimales > 0:  # para evitar problemas se toman valores positivos\n",
    "        dg = digitosDecimales % 10  # se toma el ultimo digito, que es el residuo del cociente\n",
    "        l.insert(0, dg) # se agrega a la lista\n",
    "        digitosDecimales = digitosDecimales // 10 # se hace la division entera para borrar el ultimo decimal\n",
    "    return k, l # se regresan ambas listas\n",
    "\n",
    "def fin(a, enteros, decimales): # Funcion para imprimir resultados\n",
    "    print(f\"Del numero {a} se tiene que:\")\n",
    "    print(f\"{enteros} son los digitos enteros y {decimales} los decimales\")\n",
    "\n",
    "if __name__ == \"__main__\": # Funcion main para iniciar el codigo\n",
    "    # Se pide el valoor de a y se llama a la funcion para separar sus digitos\n",
    "    a = float(input(\"Tu numero es: \")) \n",
    "    enteros, decimales = num(a)\n",
    "    fin(a,enteros,decimales)"
   ]
  },
  {
   "cell_type": "markdown",
   "metadata": {},
   "source": [
    "6. Elementos Repetidos"
   ]
  },
  {
   "cell_type": "code",
   "execution_count": null,
   "metadata": {},
   "outputs": [],
   "source": [
    "def m(): # Funcion para Ingresar Una Lista\n",
    "    l = [] # Lista a almacenar valores\n",
    "    while True: # Bucle para agregar digitos sin limite previo \n",
    "        k = input(f\"Ingrese el elemento {len(l) + 1} (o presione Enter para terminar): \") # se ingresan digitos hasta que el usuario desee\n",
    "        if k == '':\n",
    "            break\n",
    "        l.append(k) #see agrega los valores a la lista\n",
    "    return l # retorna la lista \n",
    "\n",
    "def j(p): # Funcion contadora de repeticiones\n",
    "    k = [] # lista vacia para almacenar los valores que se repiten\n",
    "    for i in p: # se agrega a la lista los valores que se repitan y que no esten en dicha lista\n",
    "        if p.count(i) > 1 and k.count(i) == 0:\n",
    "             k.append(i)\n",
    "    for i in k: # se imprime los valores que se repiten junto con la cantidad de veces que se repite\n",
    "        print(f\"{i} se repite {p.count(i) - 1} veces\")\n",
    "    \n",
    "if __name__ == \"__main__\":\n",
    "    print(\"Lista: \")\n",
    "    q = m()\n",
    "    z = j(q)"
   ]
  },
  {
   "cell_type": "markdown",
   "metadata": {},
   "source": [
    "8. Elementos únicos en Listas\n"
   ]
  },
  {
   "cell_type": "code",
   "execution_count": null,
   "metadata": {},
   "outputs": [],
   "source": [
    "def crearLista()-> list: # Funcion para crear una lista\n",
    "    # Declaracion de variables locales\n",
    "    lista1: list = []\n",
    "    lista2: list = []\n",
    "    bandera: bool = True\n",
    "    while bandera == True: # Ciclo infinito hasta que se de el break\n",
    "        # Ciclo para agregar los elementos deseados a cada lista\n",
    "        elementos = input(f\"Para la lista 1 ingrese el elemento {len(lista1) + 1} (o presione Enter para terminar): \")\n",
    "        if elementos == '': # Condicion para romper el ciclo\n",
    "            break\n",
    "        lista1.append(elementos)\n",
    "    print(f\"la primera: {lista1}\")\n",
    "    while bandera == True: # Ciclo infinito hasta que se de el break\n",
    "        # Ciclo para agregar los elementos deseados a cada lista\n",
    "        elementos = input(f\"Para la lista 2 ingrese el elemento {len(lista2) + 1} (o presione Enter para terminar): \")\n",
    "        if elementos == '': # Condicion para romper el ciclo\n",
    "            break\n",
    "        lista2.append(elementos)\n",
    "    print(f\"la segunda: {lista2}\")\n",
    "    return lista1, lista2\n",
    "\n",
    "def compararListas(lista1: list, lista2: list)-> list: # Funcion para comparar listas\n",
    "    salida: list = [] # Declaracion de variable\n",
    "    for i in range(len(lista1)): # Ciclo para cada elemento unico en lista1 sea agregado a lista3\n",
    "        if (lista1[i] in lista2) == False:\n",
    "            salida.append(lista1[i])\n",
    "    return salida\n",
    "\n",
    "def fin(): # Funcion para imprimir resultados\n",
    "    print(\"Los elementos de la lista 1 que no estan en la lista 2 son:\")\n",
    "    print(lista3)\n",
    "                   \n",
    "if __name__ == \"__main__\": # Funcion main para indicar el inicio del codigo\n",
    "    # Instrucciones iniciales\n",
    "    print(\"Obtengamos elementos unicos en la lista 1\")\n",
    "\n",
    "    # Creacion de listas\n",
    "    print(\"Crea ambas listas\")\n",
    "    lista1, lista2 = crearLista()\n",
    "\n",
    "    # Comparacion de listas\n",
    "    lista3: list = compararListas(lista1, lista2)\n",
    "    fin()"
   ]
  }
 ],
 "metadata": {
  "kernelspec": {
   "display_name": "Python 3",
   "language": "python",
   "name": "python3"
  },
  "language_info": {
   "codemirror_mode": {
    "name": "ipython",
    "version": 3
   },
   "file_extension": ".py",
   "mimetype": "text/x-python",
   "name": "python",
   "nbconvert_exporter": "python",
   "pygments_lexer": "ipython3",
   "version": "3.12.5"
  }
 },
 "nbformat": 4,
 "nbformat_minor": 2
}
