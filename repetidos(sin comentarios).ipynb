{
 "cells": [
  {
   "cell_type": "markdown",
   "metadata": {},
   "source": [
    "Elementos Repetidos"
   ]
  },
  {
   "cell_type": "code",
   "execution_count": 2,
   "metadata": {},
   "outputs": [],
   "source": [
    "def m():\n",
    "    l = []\n",
    "    while True:\n",
    "        k = input(f\"Ingrese el elemento {len(l) + 1} (o presione Enter para terminar): \")\n",
    "        if k == '':\n",
    "            break\n",
    "        l.append(k)\n",
    "    return l\n",
    "\n",
    "def r(p):\n",
    "    for x in range(len(p)):\n",
    "        for y in range(x+1,len(p)):\n",
    "          if p[x] == p[y]:\n",
    "           print(p[x],\" es repetido\")\n",
    "           \n",
    "if __name__ == \"__main__\":\n",
    "    print(\"Lista: \")\n",
    "    q = m()\n",
    "    z = r(q)"
   ]
  }
 ],
 "metadata": {
  "kernelspec": {
   "display_name": "Python 3",
   "language": "python",
   "name": "python3"
  },
  "language_info": {
   "codemirror_mode": {
    "name": "ipython",
    "version": 3
   },
   "file_extension": ".py",
   "mimetype": "text/x-python",
   "name": "python",
   "nbconvert_exporter": "python",
   "pygments_lexer": "ipython3",
   "version": "3.12.2"
  }
 },
 "nbformat": 4,
 "nbformat_minor": 2
}
